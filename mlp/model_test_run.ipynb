{
 "cells": [
  {
   "cell_type": "code",
   "execution_count": 39,
   "metadata": {},
   "outputs": [],
   "source": [
    "import time\n",
    "import numpy as np\n",
    "import h5py\n",
    "import matplotlib.pyplot as plt\n",
    "import scipy\n",
    "from PIL import Image\n",
    "from scipy import ndimage\n",
    "from test_cases import *\n",
    "from tests import *\n",
    "from model_tests import *\n",
    "from inits import *\n",
    "from components  import *\n",
    "from util import *\n",
    "from model2l import *\n",
    "from modelnl import *"
   ]
  },
  {
   "cell_type": "code",
   "execution_count": 2,
   "metadata": {},
   "outputs": [],
   "source": [
    "def launch_init_params_test(): \n",
    "    parameters = initialize_parameters(3,2,1)\n",
    "\n",
    "    print(\"W1 = \" + str(parameters[\"W1\"]))\n",
    "    print(\"b1 = \" + str(parameters[\"b1\"]))\n",
    "    print(\"W2 = \" + str(parameters[\"W2\"]))\n",
    "    print(\"b2 = \" + str(parameters[\"b2\"]))\n",
    "\n",
    "    initialize_parameters_test(initialize_parameters)"
   ]
  },
  {
   "cell_type": "code",
   "execution_count": 3,
   "metadata": {},
   "outputs": [
    {
     "name": "stdout",
     "output_type": "stream",
     "text": [
      "W1 = [[ 0.01624345 -0.00611756 -0.00528172]\n",
      " [-0.01072969  0.00865408 -0.02301539]]\n",
      "b1 = [[0.]\n",
      " [0.]]\n",
      "W2 = [[ 0.01744812 -0.00761207]]\n",
      "b2 = [[0.]]\n",
      "\u001b[92m All tests passed.\n"
     ]
    }
   ],
   "source": [
    "launch_init_params_test()"
   ]
  },
  {
   "cell_type": "code",
   "execution_count": 4,
   "metadata": {},
   "outputs": [],
   "source": [
    "def launch_init_params_deep_test():\n",
    "    # test init parameters\n",
    "    parameters = initialize_parameters_deep([5,4,3], rs=3)\n",
    "\n",
    "    print(\"W1 = \" + str(parameters[\"W1\"]))\n",
    "    print(\"b1 = \" + str(parameters[\"b1\"]))\n",
    "    print(\"W2 = \" + str(parameters[\"W2\"]))\n",
    "    print(\"b2 = \" + str(parameters[\"b2\"]))\n",
    "\n",
    "    initialize_parameters_deep_test(initialize_parameters_deep)"
   ]
  },
  {
   "cell_type": "code",
   "execution_count": 5,
   "metadata": {},
   "outputs": [
    {
     "name": "stdout",
     "output_type": "stream",
     "text": [
      "W1 = [[ 0.79989897  0.19521314  0.04315498 -0.83337927 -0.12405178]\n",
      " [-0.15865304 -0.03700312 -0.28040323 -0.01959608 -0.21341839]\n",
      " [-0.58757818  0.39561516  0.39413741  0.76454432  0.02237573]\n",
      " [-0.18097724 -0.24389238 -0.69160568  0.43932807 -0.49241241]]\n",
      "b1 = [[0.]\n",
      " [0.]\n",
      " [0.]\n",
      " [0.]]\n",
      "W2 = [[-0.59252326 -0.10282495  0.74307418  0.11835813]\n",
      " [-0.51189257 -0.3564966   0.31262248 -0.08025668]\n",
      " [-0.38441818 -0.11501536  0.37252813  0.98805539]]\n",
      "b2 = [[0.]\n",
      " [0.]\n",
      " [0.]]\n",
      "\u001b[92m All tests passed.\n"
     ]
    }
   ],
   "source": [
    "launch_init_params_deep_test()"
   ]
  },
  {
   "cell_type": "code",
   "execution_count": 6,
   "metadata": {},
   "outputs": [],
   "source": [
    "def launch_linear_fpass_test():\n",
    "    t_A, t_W, t_b = linear_forward_test_case()\n",
    "    t_Z, t_linear_cache = linear_forward(t_A, t_W, t_b)\n",
    "    print(\"Z = \" + str(t_Z))\n",
    "\n",
    "    linear_forward_test(linear_forward)"
   ]
  },
  {
   "cell_type": "code",
   "execution_count": 7,
   "metadata": {},
   "outputs": [
    {
     "name": "stdout",
     "output_type": "stream",
     "text": [
      "Z = [[ 3.26295337 -1.23429987]]\n",
      "\u001b[92m All tests passed.\n"
     ]
    }
   ],
   "source": [
    "launch_linear_fpass_test()"
   ]
  },
  {
   "cell_type": "code",
   "execution_count": 8,
   "metadata": {},
   "outputs": [],
   "source": [
    "def launch_linear_act_fpass_test():\n",
    "    t_A_prev, t_W, t_b = linear_activation_forward_test_case()\n",
    "\n",
    "    t_A, t_linear_activation_cache = linear_activation_forward(t_A_prev, t_W, t_b, activation = \"sigmoid\")\n",
    "    print(\"With sigmoid: A = \" + str(t_A))\n",
    "\n",
    "    t_A, t_linear_activation_cache = linear_activation_forward(t_A_prev, t_W, t_b, activation = \"relu\")\n",
    "    print(\"With ReLU: A = \" + str(t_A))\n",
    "\n",
    "    linear_activation_forward_test(linear_activation_forward)"
   ]
  },
  {
   "cell_type": "code",
   "execution_count": 9,
   "metadata": {},
   "outputs": [
    {
     "name": "stdout",
     "output_type": "stream",
     "text": [
      "With sigmoid: A = [[0.96890023 0.11013289]]\n",
      "With ReLU: A = [[3.43896131 0.        ]]\n",
      "\u001b[92m All tests passed.\n"
     ]
    }
   ],
   "source": [
    "launch_linear_act_fpass_test()"
   ]
  },
  {
   "cell_type": "code",
   "execution_count": 10,
   "metadata": {},
   "outputs": [],
   "source": [
    "def launch_L_modelfpass_test():\n",
    "    t_X, t_parameters = L_model_forward_test_case_2hidden()\n",
    "    t_AL, t_caches = L_model_forward(t_X, t_parameters)\n",
    "\n",
    "    print(\"AL = \" + str(t_AL))\n",
    "\n",
    "    L_model_forward_test(L_model_forward)"
   ]
  },
  {
   "cell_type": "code",
   "execution_count": 11,
   "metadata": {},
   "outputs": [
    {
     "name": "stdout",
     "output_type": "stream",
     "text": [
      "AL = [[0.03921668 0.70498921 0.19734387 0.04728177]]\n",
      "\u001b[92m All tests passed.\n"
     ]
    }
   ],
   "source": [
    "launch_L_modelfpass_test()"
   ]
  },
  {
   "cell_type": "code",
   "execution_count": 12,
   "metadata": {},
   "outputs": [],
   "source": [
    "def launch_compute_cost_test():\n",
    "    t_Y, t_AL = compute_cost_test_case()\n",
    "    t_cost = compute_cost(t_AL, t_Y)\n",
    "\n",
    "    print(\"Cost: \" + str(t_cost))\n",
    "\n",
    "    compute_cost_test(compute_cost)"
   ]
  },
  {
   "cell_type": "code",
   "execution_count": 13,
   "metadata": {},
   "outputs": [
    {
     "name": "stdout",
     "output_type": "stream",
     "text": [
      "Cost: 0.2797765635793422\n",
      "\u001b[92m All tests passed.\n"
     ]
    }
   ],
   "source": [
    "launch_compute_cost_test()"
   ]
  },
  {
   "cell_type": "code",
   "execution_count": 14,
   "metadata": {},
   "outputs": [],
   "source": [
    "def launch_linear_backward_prop_test(): \n",
    "    t_dZ, t_linear_cache = linear_backward_test_case()\n",
    "    t_dA_prev, t_dW, t_db = linear_backward(t_dZ, t_linear_cache)\n",
    "\n",
    "    print(\"dA_prev: \" + str(t_dA_prev))\n",
    "    print(\"dW: \" + str(t_dW))\n",
    "    print(\"db: \" + str(t_db))\n",
    "\n",
    "    linear_backward_test(linear_backward)"
   ]
  },
  {
   "cell_type": "code",
   "execution_count": 15,
   "metadata": {},
   "outputs": [
    {
     "name": "stdout",
     "output_type": "stream",
     "text": [
      "dA_prev: [[-1.15171336  0.06718465 -0.3204696   2.09812712]\n",
      " [ 0.60345879 -3.72508701  5.81700741 -3.84326836]\n",
      " [-0.4319552  -1.30987417  1.72354705  0.05070578]\n",
      " [-0.38981415  0.60811244 -1.25938424  1.47191593]\n",
      " [-2.52214926  2.67882552 -0.67947465  1.48119548]]\n",
      "dW: [[ 0.07313866 -0.0976715  -0.87585828  0.73763362  0.00785716]\n",
      " [ 0.85508818  0.37530413 -0.59912655  0.71278189 -0.58931808]\n",
      " [ 0.97913304 -0.24376494 -0.08839671  0.55151192 -0.10290907]]\n",
      "db: [[-0.14713786]\n",
      " [-0.11313155]\n",
      " [-0.13209101]]\n",
      "\u001b[92m All tests passed.\n"
     ]
    }
   ],
   "source": [
    "launch_linear_backward_prop_test()"
   ]
  },
  {
   "cell_type": "code",
   "execution_count": 16,
   "metadata": {},
   "outputs": [],
   "source": [
    "def launch_linear_act_backward_prop_test():\n",
    "    t_dAL, t_linear_activation_cache = linear_activation_backward_test_case()\n",
    "\n",
    "    t_dA_prev, t_dW, t_db = linear_activation_backward(t_dAL, t_linear_activation_cache, activation = \"sigmoid\")\n",
    "    print(\"With sigmoid: dA_prev = \" + str(t_dA_prev))\n",
    "    print(\"With sigmoid: dW = \" + str(t_dW))\n",
    "    print(\"With sigmoid: db = \" + str(t_db))\n",
    "\n",
    "    t_dA_prev, t_dW, t_db = linear_activation_backward(t_dAL, t_linear_activation_cache, activation = \"relu\")\n",
    "    print(\"With relu: dA_prev = \" + str(t_dA_prev))\n",
    "    print(\"With relu: dW = \" + str(t_dW))\n",
    "    print(\"With relu: db = \" + str(t_db))\n",
    "\n",
    "    linear_activation_backward_test(linear_activation_backward)"
   ]
  },
  {
   "cell_type": "code",
   "execution_count": 17,
   "metadata": {},
   "outputs": [
    {
     "name": "stdout",
     "output_type": "stream",
     "text": [
      "With sigmoid: dA_prev = [[ 0.11017994  0.01105339]\n",
      " [ 0.09466817  0.00949723]\n",
      " [-0.05743092 -0.00576154]]\n",
      "With sigmoid: dW = [[ 0.10266786  0.09778551 -0.01968084]]\n",
      "With sigmoid: db = [[-0.05729622]]\n",
      "With relu: dA_prev = [[ 0.44090989  0.        ]\n",
      " [ 0.37883606  0.        ]\n",
      " [-0.2298228   0.        ]]\n",
      "With relu: dW = [[ 0.44513824  0.37371418 -0.10478989]]\n",
      "With relu: db = [[-0.20837892]]\n",
      "\u001b[92m All tests passed.\n"
     ]
    }
   ],
   "source": [
    "launch_linear_act_backward_prop_test()"
   ]
  },
  {
   "cell_type": "code",
   "execution_count": 18,
   "metadata": {},
   "outputs": [],
   "source": [
    "def launch_L_model_backward_test():\n",
    "    t_AL, t_Y_assess, t_caches = L_model_backward_test_case()\n",
    "    grads = L_model_backward(t_AL, t_Y_assess, t_caches)\n",
    "\n",
    "    print(\"dA0 = \" + str(grads['dA0']))\n",
    "    print(\"dA1 = \" + str(grads['dA1']))\n",
    "    print(\"dW1 = \" + str(grads['dW1']))\n",
    "    print(\"dW2 = \" + str(grads['dW2']))\n",
    "    print(\"db1 = \" + str(grads['db1']))\n",
    "    print(\"db2 = \" + str(grads['db2']))\n",
    "\n",
    "    L_model_backward_test(L_model_backward)"
   ]
  },
  {
   "cell_type": "code",
   "execution_count": 19,
   "metadata": {},
   "outputs": [
    {
     "name": "stdout",
     "output_type": "stream",
     "text": [
      "dA0 = [[ 0.          0.52257901]\n",
      " [ 0.         -0.3269206 ]\n",
      " [ 0.         -0.32070404]\n",
      " [ 0.         -0.74079187]]\n",
      "dA1 = [[ 0.12913162 -0.44014127]\n",
      " [-0.14175655  0.48317296]\n",
      " [ 0.01663708 -0.05670698]]\n",
      "dW1 = [[0.41010002 0.07807203 0.13798444 0.10502167]\n",
      " [0.         0.         0.         0.        ]\n",
      " [0.05283652 0.01005865 0.01777766 0.0135308 ]]\n",
      "dW2 = [[-0.39202432 -0.13325855 -0.04601089]]\n",
      "db1 = [[-0.22007063]\n",
      " [ 0.        ]\n",
      " [-0.02835349]]\n",
      "db2 = [[0.15187861]]\n",
      "\u001b[92m All tests passed.\n"
     ]
    }
   ],
   "source": [
    "launch_L_model_backward_test()"
   ]
  },
  {
   "cell_type": "code",
   "execution_count": 20,
   "metadata": {},
   "outputs": [],
   "source": [
    "def launch_update_parameters_test():\n",
    "    t_parameters, grads = update_parameters_test_case()\n",
    "    t_parameters = update_parameters(t_parameters, grads, 0.1)\n",
    "\n",
    "    print (\"W1 = \"+ str(t_parameters[\"W1\"]))\n",
    "    print (\"b1 = \"+ str(t_parameters[\"b1\"]))\n",
    "    print (\"W2 = \"+ str(t_parameters[\"W2\"]))\n",
    "    print (\"b2 = \"+ str(t_parameters[\"b2\"]))\n",
    "\n",
    "    update_parameters_test(update_parameters)"
   ]
  },
  {
   "cell_type": "code",
   "execution_count": 21,
   "metadata": {},
   "outputs": [
    {
     "name": "stdout",
     "output_type": "stream",
     "text": [
      "W1 = [[-0.59562069 -0.09991781 -2.14584584  1.82662008]\n",
      " [-1.76569676 -0.80627147  0.51115557 -1.18258802]\n",
      " [-1.0535704  -0.86128581  0.68284052  2.20374577]]\n",
      "b1 = [[-0.04659241]\n",
      " [-1.28888275]\n",
      " [ 0.53405496]]\n",
      "W2 = [[-0.55569196  0.0354055   1.32964895]]\n",
      "b2 = [[-0.84610769]]\n",
      "\u001b[92m All tests passed.\n"
     ]
    }
   ],
   "source": [
    "launch_update_parameters_test()"
   ]
  },
  {
   "cell_type": "code",
   "execution_count": 22,
   "metadata": {},
   "outputs": [
    {
     "name": "stdout",
     "output_type": "stream",
     "text": [
      "Number of training examples: 209\n",
      "Number of testing examples: 50\n",
      "Each image is of size: (64, 64, 3)\n",
      "train_x_orig shape: (209, 64, 64, 3)\n",
      "train_y shape: (1, 209)\n",
      "test_x_orig shape: (50, 64, 64, 3)\n",
      "test_y shape: (1, 50)\n"
     ]
    }
   ],
   "source": [
    "train_x_orig, train_y, test_x_orig, test_y, classes = load_data()\n",
    "\n",
    "m_train = train_x_orig.shape[0]\n",
    "num_px = train_x_orig.shape[1]\n",
    "m_test = test_x_orig.shape[0]\n",
    "\n",
    "print (\"Number of training examples: \" + str(m_train))\n",
    "print (\"Number of testing examples: \" + str(m_test))\n",
    "print (\"Each image is of size: (\" + str(num_px) + \", \" + str(num_px) + \", 3)\")\n",
    "print (\"train_x_orig shape: \" + str(train_x_orig.shape))\n",
    "print (\"train_y shape: \" + str(train_y.shape))\n",
    "print (\"test_x_orig shape: \" + str(test_x_orig.shape))\n",
    "print (\"test_y shape: \" + str(test_y.shape))"
   ]
  },
  {
   "cell_type": "code",
   "execution_count": 23,
   "metadata": {},
   "outputs": [
    {
     "name": "stdout",
     "output_type": "stream",
     "text": [
      "train_x's shape: (12288, 209)\n",
      "test_x's shape: (12288, 50)\n"
     ]
    }
   ],
   "source": [
    "# reshape the training and test examples \n",
    "train_x_flatten = train_x_orig.reshape(train_x_orig.shape[0], -1).T\n",
    "test_x_flatten = test_x_orig.reshape(test_x_orig.shape[0], -1).T\n",
    "\n",
    "# standardize data to have feature values between 0 and 1\n",
    "train_x = train_x_flatten/255.\n",
    "test_x = test_x_flatten/255.\n",
    "\n",
    "print (\"train_x's shape: \" + str(train_x.shape))\n",
    "print (\"test_x's shape: \" + str(test_x.shape))"
   ]
  },
  {
   "cell_type": "code",
   "execution_count": 24,
   "metadata": {},
   "outputs": [],
   "source": [
    "# hyper parameters for the 2-nn model\n",
    "n_x = train_x.shape[0]\n",
    "n_h = 7\n",
    "n_y = 1\n",
    "learning_rate = 0.0075"
   ]
  },
  {
   "cell_type": "code",
   "execution_count": 25,
   "metadata": {},
   "outputs": [],
   "source": [
    "def launch_two_layer_model_beta_test():\n",
    "    parameters, costs = two_layer_model(train_x, train_y, layers_dims = (n_x, n_h, n_y), num_iterations = 2, print_cost=False)\n",
    "\n",
    "    print(\"Cost after first iteration: \" + str(costs[0]))\n",
    "\n",
    "    two_layer_model_test(two_layer_model)"
   ]
  },
  {
   "cell_type": "code",
   "execution_count": 26,
   "metadata": {},
   "outputs": [
    {
     "name": "stdout",
     "output_type": "stream",
     "text": [
      "Cost after iteration 1: 0.6926114346158595\n",
      "Cost after first iteration: 0.6930497356599887\n",
      "Cost after iteration 1: 0.6915746967050506\n",
      "Cost after iteration 1: 0.6915746967050506\n",
      "Cost after iteration 1: 0.6915746967050506\n",
      "Cost after iteration 2: 0.6524135179683452\n",
      "\u001b[92m All tests passed.\n"
     ]
    }
   ],
   "source": [
    "launch_two_layer_model_beta_test()"
   ]
  },
  {
   "cell_type": "code",
   "execution_count": 27,
   "metadata": {},
   "outputs": [],
   "source": [
    "def train2layerNN():\n",
    "    parameters, costs = two_layer_model(train_x, train_y, layers_dims = (n_x, n_h, n_y), num_iterations = 2500, print_cost=True)\n",
    "    plot_costs(costs, learning_rate)\n",
    "    \n",
    "    return parameters"
   ]
  },
  {
   "cell_type": "code",
   "execution_count": 28,
   "metadata": {},
   "outputs": [
    {
     "name": "stdout",
     "output_type": "stream",
     "text": [
      "Cost after iteration 0: 0.6930497356599887\n",
      "Cost after iteration 100: 0.6464320953428847\n",
      "Cost after iteration 200: 0.6325140647912676\n",
      "Cost after iteration 300: 0.6015024920354665\n",
      "Cost after iteration 400: 0.5601966311605747\n",
      "Cost after iteration 500: 0.5158304772764732\n",
      "Cost after iteration 600: 0.4754901313943325\n",
      "Cost after iteration 700: 0.433916315122575\n",
      "Cost after iteration 800: 0.4007977536203886\n",
      "Cost after iteration 900: 0.3580705011323795\n",
      "Cost after iteration 1000: 0.339428153836641\n",
      "Cost after iteration 1100: 0.30527536361962715\n",
      "Cost after iteration 1200: 0.27491377282130275\n",
      "Cost after iteration 1300: 0.24681768210614785\n",
      "Cost after iteration 1400: 0.19850735037466263\n",
      "Cost after iteration 1500: 0.1744831811255658\n",
      "Cost after iteration 1600: 0.1708076297809784\n",
      "Cost after iteration 1700: 0.1130652456216478\n",
      "Cost after iteration 1800: 0.09629426845937131\n",
      "Cost after iteration 1900: 0.0834261795972688\n",
      "Cost after iteration 2000: 0.07439078704319095\n",
      "Cost after iteration 2100: 0.06630748132267936\n",
      "Cost after iteration 2200: 0.059193295010381536\n",
      "Cost after iteration 2300: 0.05336140348560562\n",
      "Cost after iteration 2400: 0.04855478562877028\n",
      "Cost after iteration 2499: 0.04421498215868949\n"
     ]
    },
    {
     "data": {
      "image/png": "[encoded data removed]",
      "text/plain": [
       "<Figure size 432x288 with 1 Axes>"
      ]
     },
     "metadata": {
      "needs_background": "light"
     },
     "output_type": "display_data"
    }
   ],
   "source": [
    "#launch training\n",
    "trained_parameters = train2layerNN()"
   ]
  },
  {
   "cell_type": "code",
   "execution_count": 29,
   "metadata": {},
   "outputs": [
    {
     "name": "stdout",
     "output_type": "stream",
     "text": [
      "Accuracy on train set: 0.9999999999999998\n",
      "Accuracy on test set: 0.72\n"
     ]
    }
   ],
   "source": [
    "predictions_train = predict(train_x, train_y, trained_parameters, \"train\")\n",
    "predictions_test = predict(test_x, test_y, trained_parameters, \"test\")\n",
    "assert(np.sum((predictions_train == train_y)/train_x.shape[1]) == 0.9999999999999998)\n",
    "assert(np.sum((predictions_test == test_y)/test_x.shape[1]) == 0.72)"
   ]
  },
  {
   "cell_type": "code",
   "execution_count": 30,
   "metadata": {},
   "outputs": [],
   "source": [
    "def launch_L_layer_model_beta_test():\n",
    "    parameters, costs = L_layer_model(train_x, train_y, layers_dims = [n_x, 20, n_h, 5, n_y], num_iterations = 1, print_cost = False, rs=1)\n",
    "\n",
    "    print(\"Cost after first iteration: \" + str(costs[0]))\n",
    "\n",
    "    L_layer_model_test(L_layer_model)"
   ]
  },
  {
   "cell_type": "code",
   "execution_count": 31,
   "metadata": {},
   "outputs": [
    {
     "name": "stdout",
     "output_type": "stream",
     "text": [
      "Cost after iteration 0: 0.7717493284237688\n",
      "Cost after first iteration: 0.7717493284237688\n",
      "Cost after iteration 1: 0.7070709008912569\n",
      "Cost after iteration 1: 0.7070709008912569\n",
      "Cost after iteration 1: 0.7070709008912569\n",
      "Cost after iteration 2: 0.7063462654190897\n",
      "\u001b[92m All tests passed.\n"
     ]
    }
   ],
   "source": [
    "launch_L_layer_model_beta_test()"
   ]
  },
  {
   "cell_type": "code",
   "execution_count": 32,
   "metadata": {},
   "outputs": [],
   "source": [
    "def trainNlayerNN():\n",
    "    parameters, costs = L_layer_model(train_x, train_y, layers_dims = [n_x, 20, n_h, 5, n_y], num_iterations = 2500, print_cost = True, rs=1)\n",
    "    plot_costs(costs, learning_rate)\n",
    "    \n",
    "    return parameters"
   ]
  },
  {
   "cell_type": "code",
   "execution_count": 33,
   "metadata": {},
   "outputs": [
    {
     "name": "stdout",
     "output_type": "stream",
     "text": [
      "Cost after iteration 0: 0.7717493284237688\n",
      "Cost after iteration 100: 0.6720534400822913\n",
      "Cost after iteration 200: 0.6482632048575223\n",
      "Cost after iteration 300: 0.6115068816101359\n",
      "Cost after iteration 400: 0.567047326836611\n",
      "Cost after iteration 500: 0.5401376634547794\n",
      "Cost after iteration 600: 0.5279299569455262\n",
      "Cost after iteration 700: 0.4654773771766849\n",
      "Cost after iteration 800: 0.3691258524959283\n",
      "Cost after iteration 900: 0.3917469743480533\n",
      "Cost after iteration 1000: 0.31518698886006186\n",
      "Cost after iteration 1100: 0.2726998441789389\n",
      "Cost after iteration 1200: 0.2374185340026814\n",
      "Cost after iteration 1300: 0.1996012053220865\n",
      "Cost after iteration 1400: 0.18926300388463346\n",
      "Cost after iteration 1500: 0.16118854665827748\n",
      "Cost after iteration 1600: 0.14821389662363327\n",
      "Cost after iteration 1700: 0.13777487812972947\n",
      "Cost after iteration 1800: 0.12974017549190134\n",
      "Cost after iteration 1900: 0.12122535068005211\n",
      "Cost after iteration 2000: 0.11382060668633691\n",
      "Cost after iteration 2100: 0.10783928526254155\n",
      "Cost after iteration 2200: 0.1028546606935267\n",
      "Cost after iteration 2300: 0.10089745445261772\n",
      "Cost after iteration 2400: 0.09287821526472391\n",
      "Cost after iteration 2499: 0.08843994344170189\n"
     ]
    },
    {
     "data": {
      "image/png": "[encoded data removed]",
      "text/plain": [
       "<Figure size 432x288 with 1 Axes>"
      ]
     },
     "metadata": {
      "needs_background": "light"
     },
     "output_type": "display_data"
    }
   ],
   "source": [
    "trained_parameters1 = trainNlayerNN()"
   ]
  },
  {
   "cell_type": "code",
   "execution_count": 35,
   "metadata": {},
   "outputs": [
    {
     "name": "stdout",
     "output_type": "stream",
     "text": [
      "Accuracy on train set: 0.9856459330143539\n",
      "Accuracy on test set: 0.8\n"
     ]
    }
   ],
   "source": [
    "predictions_train1 = predict(train_x, train_y, trained_parameters1, \"train\")\n",
    "predictions_test1 = predict(test_x, test_y, trained_parameters1, \"test\")\n",
    "assert(np.sum((predictions_train1 == train_y)/train_x.shape[1]) == 0.9856459330143539)\n",
    "assert(np.sum((predictions_test1 == test_y)/test_x.shape[1]) == 0.8)"
   ]
  },
  {
   "cell_type": "code",
   "execution_count": 44,
   "metadata": {},
   "outputs": [],
   "source": [
    "def predict_image(image_name, lb):\n",
    "    my_label_y = [lb]\n",
    "\n",
    "    fname = \"images/\" + image_name\n",
    "    image = np.array(Image.open(fname).resize((num_px, num_px)))\n",
    "    plt.imshow(image)\n",
    "    image = image / 255.\n",
    "    image = image.reshape((1, num_px * num_px * 3)).T\n",
    "\n",
    "    my_predicted_image = predict(image, my_label_y, trained_parameters1, \"test\")\n",
    "\n",
    "\n",
    "    print (\"y = \" + str(np.squeeze(my_predicted_image)) + \",model predicts a \\\"\" + classes[int(np.squeeze(my_predicted_image)),].decode(\"utf-8\") +  \"\\\" picture.\")"
   ]
  },
  {
   "cell_type": "code",
   "execution_count": 45,
   "metadata": {},
   "outputs": [
    {
     "name": "stdout",
     "output_type": "stream",
     "text": [
      "Accuracy on test set: 1.0\n",
      "y = 1.0,model predicts a \"cat\" picture.\n"
     ]
    },
    {
     "data": {
      "image/png": "[encoded data removed]",
      "text/plain": [
       "<Figure size 432x288 with 1 Axes>"
      ]
     },
     "metadata": {
      "needs_background": "light"
     },
     "output_type": "display_data"
    }
   ],
   "source": [
    "predict_image(image_name = \"christmas_cat.jpg\", lb = 1)"
   ]
  }
 ],
 "metadata": {
  "kernelspec": {
   "display_name": "Python 3",
   "language": "python",
   "name": "python3"
  },
  "language_info": {
   "codemirror_mode": {
    "name": "ipython",
    "version": 3
   },
   "file_extension": ".py",
   "mimetype": "text/x-python",
   "name": "python",
   "nbconvert_exporter": "python",
   "pygments_lexer": "ipython3",
   "version": "3.8.6"
  }
 },
 "nbformat": 4,
 "nbformat_minor": 4
}
